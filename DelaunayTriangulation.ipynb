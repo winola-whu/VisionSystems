{
 "cells": [
  {
   "metadata": {},
   "cell_type": "markdown",
   "source": "Implementing the Delaunay Triangulation with some points (cones) then traversing triangle edges to form paths",
   "id": "e355fa4e91217eb9"
  },
  {
   "metadata": {},
   "cell_type": "code",
   "outputs": [],
   "execution_count": null,
   "source": "import scipy.spatial as ss",
   "id": "511aede922aeb203"
  }
 ],
 "metadata": {
  "kernelspec": {
   "display_name": "Python 3",
   "language": "python",
   "name": "python3"
  },
  "language_info": {
   "codemirror_mode": {
    "name": "ipython",
    "version": 2
   },
   "file_extension": ".py",
   "mimetype": "text/x-python",
   "name": "python",
   "nbconvert_exporter": "python",
   "pygments_lexer": "ipython2",
   "version": "2.7.6"
  }
 },
 "nbformat": 4,
 "nbformat_minor": 5
}
